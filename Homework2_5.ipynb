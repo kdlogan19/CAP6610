{
  "nbformat": 4,
  "nbformat_minor": 0,
  "metadata": {
    "colab": {
      "name": "Homework2_5.ipynb",
      "provenance": [],
      "toc_visible": true,
      "authorship_tag": "ABX9TyM6doAsLmy4gwrvRoWQXZ2z",
      "include_colab_link": true
    },
    "kernelspec": {
      "name": "python3",
      "display_name": "Python 3"
    }
  },
  "cells": [
    {
      "cell_type": "markdown",
      "metadata": {
        "id": "view-in-github",
        "colab_type": "text"
      },
      "source": [
        "<a href=\"https://colab.research.google.com/github/kdlogan19/CAP6610/blob/master/Homework2_5.ipynb\" target=\"_parent\"><img src=\"https://colab.research.google.com/assets/colab-badge.svg\" alt=\"Open In Colab\"/></a>"
      ]
    },
    {
      "cell_type": "code",
      "metadata": {
        "id": "llzo6hfBQq3n",
        "colab_type": "code",
        "colab": {}
      },
      "source": [
        "import pandas as pd\n",
        "df = pd.read_csv(\"ionosphere.data\",header = None)"
      ],
      "execution_count": 0,
      "outputs": []
    },
    {
      "cell_type": "code",
      "metadata": {
        "id": "3biU-hSuRDJM",
        "colab_type": "code",
        "colab": {
          "base_uri": "https://localhost:8080/",
          "height": 34
        },
        "outputId": "3ab26b34-9599-41f5-a089-68143d9f9022"
      },
      "source": [
        "df_train = df.iloc[:300,:34]\n",
        "df_test = df.iloc[300:,:34]\n",
        "df_test.shape"
      ],
      "execution_count": 289,
      "outputs": [
        {
          "output_type": "execute_result",
          "data": {
            "text/plain": [
              "(51, 34)"
            ]
          },
          "metadata": {
            "tags": []
          },
          "execution_count": 289
        }
      ]
    },
    {
      "cell_type": "code",
      "metadata": {
        "id": "6KQ7vKNpRfa4",
        "colab_type": "code",
        "colab": {}
      },
      "source": [
        "y_train = df.iloc[:300,34]"
      ],
      "execution_count": 0,
      "outputs": []
    },
    {
      "cell_type": "code",
      "metadata": {
        "id": "d0ySDsj_SaUa",
        "colab_type": "code",
        "colab": {
          "base_uri": "https://localhost:8080/",
          "height": 218
        },
        "outputId": "50c18d48-d12e-489a-84f1-3ae6607f9e4d"
      },
      "source": [
        "y_train"
      ],
      "execution_count": 291,
      "outputs": [
        {
          "output_type": "execute_result",
          "data": {
            "text/plain": [
              "0      g\n",
              "1      b\n",
              "2      g\n",
              "3      b\n",
              "4      g\n",
              "      ..\n",
              "295    g\n",
              "296    g\n",
              "297    g\n",
              "298    g\n",
              "299    g\n",
              "Name: 34, Length: 300, dtype: object"
            ]
          },
          "metadata": {
            "tags": []
          },
          "execution_count": 291
        }
      ]
    },
    {
      "cell_type": "code",
      "metadata": {
        "id": "juvZ-tQYSbJy",
        "colab_type": "code",
        "colab": {}
      },
      "source": [
        "for i in range(len(y_train)):\n",
        "  if y_train[i] =='g':\n",
        "    y_train[i] = -1\n",
        "  else:\n",
        "    y_train[i] = 1"
      ],
      "execution_count": 0,
      "outputs": []
    },
    {
      "cell_type": "code",
      "metadata": {
        "id": "pF0gkRoHSluU",
        "colab_type": "code",
        "colab": {
          "base_uri": "https://localhost:8080/",
          "height": 218
        },
        "outputId": "22582865-8fbb-4b8f-b506-fc2d1afc2b3e"
      },
      "source": [
        "y_train"
      ],
      "execution_count": 293,
      "outputs": [
        {
          "output_type": "execute_result",
          "data": {
            "text/plain": [
              "0      -1\n",
              "1       1\n",
              "2      -1\n",
              "3       1\n",
              "4      -1\n",
              "       ..\n",
              "295    -1\n",
              "296    -1\n",
              "297    -1\n",
              "298    -1\n",
              "299    -1\n",
              "Name: 34, Length: 300, dtype: object"
            ]
          },
          "metadata": {
            "tags": []
          },
          "execution_count": 293
        }
      ]
    },
    {
      "cell_type": "code",
      "metadata": {
        "id": "ueB7Db5ESnpR",
        "colab_type": "code",
        "colab": {}
      },
      "source": [
        "y_test = df.iloc[300:,34]\n"
      ],
      "execution_count": 0,
      "outputs": []
    },
    {
      "cell_type": "code",
      "metadata": {
        "id": "xcI0WeDNS_od",
        "colab_type": "code",
        "colab": {}
      },
      "source": [
        "for j in range(300, 300+len(y_test)):\n",
        "  if y_test[j] == 'g':\n",
        "    y_test[j] = -1\n",
        "  else:\n",
        "    y_test[j] = 1"
      ],
      "execution_count": 0,
      "outputs": []
    },
    {
      "cell_type": "code",
      "metadata": {
        "id": "PnJgsj1wTBy9",
        "colab_type": "code",
        "colab": {
          "base_uri": "https://localhost:8080/",
          "height": 34
        },
        "outputId": "4b18d98b-140c-4fdc-b874-c6c1d81dc93d"
      },
      "source": [
        "df_train.shape"
      ],
      "execution_count": 296,
      "outputs": [
        {
          "output_type": "execute_result",
          "data": {
            "text/plain": [
              "(300, 34)"
            ]
          },
          "metadata": {
            "tags": []
          },
          "execution_count": 296
        }
      ]
    },
    {
      "cell_type": "code",
      "metadata": {
        "id": "BluoM_7-T4Kw",
        "colab_type": "code",
        "colab": {}
      },
      "source": [
        "df_train = df_train.to_numpy()\n",
        "df_test = df_test.to_numpy()\n",
        "y_train = y_train.to_numpy().reshape(300,1)\n",
        "y_test =  y_test.to_numpy().reshape(51,1).astype(int)\n",
        "\n"
      ],
      "execution_count": 0,
      "outputs": []
    },
    {
      "cell_type": "code",
      "metadata": {
        "id": "8l2kmQmuVTDU",
        "colab_type": "code",
        "colab": {}
      },
      "source": [
        "import numpy as np\n",
        "ones = np.ones((300,1))"
      ],
      "execution_count": 0,
      "outputs": []
    },
    {
      "cell_type": "code",
      "metadata": {
        "id": "09j44vofV0o6",
        "colab_type": "code",
        "colab": {}
      },
      "source": [
        "X_train = np.block([ones,df_train])"
      ],
      "execution_count": 0,
      "outputs": []
    },
    {
      "cell_type": "code",
      "metadata": {
        "id": "rJdowFG_WCGt",
        "colab_type": "code",
        "colab": {
          "base_uri": "https://localhost:8080/",
          "height": 34
        },
        "outputId": "3dbf0e4e-e7c5-4e1c-e331-16294f5805f4"
      },
      "source": [
        "X_train.shape"
      ],
      "execution_count": 300,
      "outputs": [
        {
          "output_type": "execute_result",
          "data": {
            "text/plain": [
              "(300, 35)"
            ]
          },
          "metadata": {
            "tags": []
          },
          "execution_count": 300
        }
      ]
    },
    {
      "cell_type": "code",
      "metadata": {
        "id": "o9PHKR21W4LV",
        "colab_type": "code",
        "colab": {}
      },
      "source": [
        "thetha =  np.matmul(np.linalg.pinv(X_train),y_train)"
      ],
      "execution_count": 0,
      "outputs": []
    },
    {
      "cell_type": "code",
      "metadata": {
        "id": "-xcF73feX9gu",
        "colab_type": "code",
        "colab": {
          "base_uri": "https://localhost:8080/",
          "height": 34
        },
        "outputId": "1c804ac6-56f9-4d4d-f00d-c7ba889b929b"
      },
      "source": [
        "thetha.shape"
      ],
      "execution_count": 302,
      "outputs": [
        {
          "output_type": "execute_result",
          "data": {
            "text/plain": [
              "(35, 1)"
            ]
          },
          "metadata": {
            "tags": []
          },
          "execution_count": 302
        }
      ]
    },
    {
      "cell_type": "code",
      "metadata": {
        "id": "AhDAFk-FX-QB",
        "colab_type": "code",
        "colab": {}
      },
      "source": [
        "X_test = np.block([np.ones(shape = (51,1), dtype= int),df_test])"
      ],
      "execution_count": 0,
      "outputs": []
    },
    {
      "cell_type": "code",
      "metadata": {
        "id": "TcXswmVdYiUZ",
        "colab_type": "code",
        "colab": {
          "base_uri": "https://localhost:8080/",
          "height": 34
        },
        "outputId": "e51d83c7-10e6-4674-a560-72054e2b914a"
      },
      "source": [
        "X_test.shape"
      ],
      "execution_count": 304,
      "outputs": [
        {
          "output_type": "execute_result",
          "data": {
            "text/plain": [
              "(51, 35)"
            ]
          },
          "metadata": {
            "tags": []
          },
          "execution_count": 304
        }
      ]
    },
    {
      "cell_type": "code",
      "metadata": {
        "id": "5rWgtlUKYxY6",
        "colab_type": "code",
        "colab": {}
      },
      "source": [
        "y_pred = np.matmul(X_test,thetha)\n",
        "for i in range(len(y_pred)):\n",
        "  if y_pred[i]<0:\n",
        "    y_pred[i] = -1\n",
        "  else:\n",
        "    y_pred[i] = 1\n",
        "y_pred = y_pred.astype(int)"
      ],
      "execution_count": 0,
      "outputs": []
    },
    {
      "cell_type": "code",
      "metadata": {
        "id": "7zSEUDeXZt1a",
        "colab_type": "code",
        "colab": {
          "base_uri": "https://localhost:8080/",
          "height": 34
        },
        "outputId": "03cabb18-8b3e-4dd5-a66d-2d6618767bbf"
      },
      "source": [
        "from sklearn.metrics import accuracy_score\n",
        "accuracy_score(y_test,y_pred)"
      ],
      "execution_count": 310,
      "outputs": [
        {
          "output_type": "execute_result",
          "data": {
            "text/plain": [
              "1.0"
            ]
          },
          "metadata": {
            "tags": []
          },
          "execution_count": 310
        }
      ]
    },
    {
      "cell_type": "code",
      "metadata": {
        "id": "SXaM2xYJZ4f0",
        "colab_type": "code",
        "colab": {}
      },
      "source": [
        ""
      ],
      "execution_count": 0,
      "outputs": []
    },
    {
      "cell_type": "markdown",
      "metadata": {
        "id": "nlBuoO_mbZl4",
        "colab_type": "text"
      },
      "source": [
        "\n",
        "\n",
        "---\n",
        "\n",
        "\n",
        "\n",
        "---\n",
        "\n"
      ]
    },
    {
      "cell_type": "markdown",
      "metadata": {
        "id": "AtoPjXlZbXqJ",
        "colab_type": "text"
      },
      "source": [
        "\n",
        "#                 HINGE LOSS\n",
        "\n",
        "\n",
        "\n",
        "\n",
        "\n"
      ]
    },
    {
      "cell_type": "code",
      "metadata": {
        "id": "4bjQC48dbosj",
        "colab_type": "code",
        "colab": {}
      },
      "source": [
        "import cvxpy as cp\n",
        "w = cp.Variable((34,1))\n",
        "b = cp.Variable()"
      ],
      "execution_count": 0,
      "outputs": []
    },
    {
      "cell_type": "code",
      "metadata": {
        "id": "-aT10gPCdXJZ",
        "colab_type": "code",
        "colab": {}
      },
      "source": [
        "loss_train = cp.sum(cp.pos(1- cp.multiply(y_train,(df_train@w + b))))"
      ],
      "execution_count": 0,
      "outputs": []
    },
    {
      "cell_type": "code",
      "metadata": {
        "id": "D8d9Vh1wd02E",
        "colab_type": "code",
        "colab": {
          "base_uri": "https://localhost:8080/",
          "height": 34
        },
        "outputId": "18109fbb-7313-4e0e-aaa1-60ab994b4b06"
      },
      "source": [
        "loss_train"
      ],
      "execution_count": 215,
      "outputs": [
        {
          "output_type": "execute_result",
          "data": {
            "text/plain": [
              "Expression(CONVEX, NONNEGATIVE, ())"
            ]
          },
          "metadata": {
            "tags": []
          },
          "execution_count": 215
        }
      ]
    },
    {
      "cell_type": "code",
      "metadata": {
        "id": "N895qIoId6yS",
        "colab_type": "code",
        "colab": {
          "base_uri": "https://localhost:8080/",
          "height": 34
        },
        "outputId": "3c9fc378-b5ec-4cc6-9ebc-b742289d9acc"
      },
      "source": [
        "cp.Problem(cp.Minimize(loss_train),[]).solve(solver = cp.ECOS)"
      ],
      "execution_count": 216,
      "outputs": [
        {
          "output_type": "execute_result",
          "data": {
            "text/plain": [
              "49.202899379210784"
            ]
          },
          "metadata": {
            "tags": []
          },
          "execution_count": 216
        }
      ]
    },
    {
      "cell_type": "code",
      "metadata": {
        "id": "VOGDOP9GlNx8",
        "colab_type": "code",
        "colab": {
          "base_uri": "https://localhost:8080/",
          "height": 34
        },
        "outputId": "56c2bfca-4acb-4fec-d538-c1b7d0bd854c"
      },
      "source": [
        "b.value"
      ],
      "execution_count": 218,
      "outputs": [
        {
          "output_type": "execute_result",
          "data": {
            "text/plain": [
              "array(19.41918879)"
            ]
          },
          "metadata": {
            "tags": []
          },
          "execution_count": 218
        }
      ]
    },
    {
      "cell_type": "code",
      "metadata": {
        "id": "sakkS9_e5NxO",
        "colab_type": "code",
        "colab": {}
      },
      "source": [
        "y_pred_hinge = cp.Variable((51,1))"
      ],
      "execution_count": 0,
      "outputs": []
    },
    {
      "cell_type": "code",
      "metadata": {
        "id": "ssWyeI3PlTj7",
        "colab_type": "code",
        "colab": {}
      },
      "source": [
        "y_pred_hinge = cp.pos(df_test@w + b)"
      ],
      "execution_count": 0,
      "outputs": []
    },
    {
      "cell_type": "code",
      "metadata": {
        "id": "nN6GARFXmG7-",
        "colab_type": "code",
        "colab": {}
      },
      "source": [
        "y_pred_hinge_round = [1 if i>0 else -1 for i in y_pred_hinge.value]"
      ],
      "execution_count": 0,
      "outputs": []
    },
    {
      "cell_type": "code",
      "metadata": {
        "id": "uKR1Xa-HmHyA",
        "colab_type": "code",
        "colab": {
          "base_uri": "https://localhost:8080/",
          "height": 34
        },
        "outputId": "148d4022-8ade-440b-e1f8-4085cc41fd6d"
      },
      "source": [
        "from sklearn.metrics import accuracy_score\n",
        "accuracy_score(y_test,y_pred_hinge_round)"
      ],
      "execution_count": 313,
      "outputs": [
        {
          "output_type": "execute_result",
          "data": {
            "text/plain": [
              "1.0"
            ]
          },
          "metadata": {
            "tags": []
          },
          "execution_count": 313
        }
      ]
    },
    {
      "cell_type": "code",
      "metadata": {
        "id": "HePZgWEpnGZp",
        "colab_type": "code",
        "colab": {}
      },
      "source": [
        ""
      ],
      "execution_count": 0,
      "outputs": []
    },
    {
      "cell_type": "markdown",
      "metadata": {
        "id": "-K1MDfLL_Ump",
        "colab_type": "text"
      },
      "source": [
        "# LOGISTIC LOSS  = log(1 + exp(−yt))"
      ]
    },
    {
      "cell_type": "code",
      "metadata": {
        "id": "98Gf9fmi_aY1",
        "colab_type": "code",
        "colab": {}
      },
      "source": [
        "w2 = cp.Variable((34,1))\n",
        "b2 = cp.Variable()"
      ],
      "execution_count": 0,
      "outputs": []
    },
    {
      "cell_type": "code",
      "metadata": {
        "id": "gmWTgX9PARNM",
        "colab_type": "code",
        "colab": {}
      },
      "source": [
        "loss_train = cp.sum(cp.logistic(-cp.multiply(y_train,(df_train@w2 + b2))))"
      ],
      "execution_count": 0,
      "outputs": []
    },
    {
      "cell_type": "code",
      "metadata": {
        "id": "oTeuKAgvAmT1",
        "colab_type": "code",
        "colab": {
          "base_uri": "https://localhost:8080/",
          "height": 34
        },
        "outputId": "9957704d-75a2-4834-ce27-753f1d1342ae"
      },
      "source": [
        "cp.Problem(cp.Minimize(loss_train),[]).solve()"
      ],
      "execution_count": 261,
      "outputs": [
        {
          "output_type": "execute_result",
          "data": {
            "text/plain": [
              "53.76804222339682"
            ]
          },
          "metadata": {
            "tags": []
          },
          "execution_count": 261
        }
      ]
    },
    {
      "cell_type": "code",
      "metadata": {
        "id": "oFsUB6eNApfG",
        "colab_type": "code",
        "colab": {
          "base_uri": "https://localhost:8080/",
          "height": 34
        },
        "outputId": "387f01f4-b29e-45f4-c429-fe6ca2b10faa"
      },
      "source": [
        "w2.value\n",
        "b2.value"
      ],
      "execution_count": 262,
      "outputs": [
        {
          "output_type": "execute_result",
          "data": {
            "text/plain": [
              "array(39.54653478)"
            ]
          },
          "metadata": {
            "tags": []
          },
          "execution_count": 262
        }
      ]
    },
    {
      "cell_type": "code",
      "metadata": {
        "id": "UCNgjQpjHPUS",
        "colab_type": "code",
        "colab": {}
      },
      "source": [
        "y_pred_logistic = df_test@w2 + b2\n",
        "y_pred_logistic_round = [1 if i>0 else -1 for i in y_pred_logistic.value]"
      ],
      "execution_count": 0,
      "outputs": []
    },
    {
      "cell_type": "code",
      "metadata": {
        "id": "nhn6DbZAHgrg",
        "colab_type": "code",
        "colab": {
          "base_uri": "https://localhost:8080/",
          "height": 34
        },
        "outputId": "d1ab6be1-4683-49dd-ac13-764a86229ac6"
      },
      "source": [
        "accuracy_score(y_test,y_pred_logistic_round)"
      ],
      "execution_count": 314,
      "outputs": [
        {
          "output_type": "execute_result",
          "data": {
            "text/plain": [
              "1.0"
            ]
          },
          "metadata": {
            "tags": []
          },
          "execution_count": 314
        }
      ]
    },
    {
      "cell_type": "code",
      "metadata": {
        "id": "sYuDGKANHpzl",
        "colab_type": "code",
        "colab": {}
      },
      "source": [
        ""
      ],
      "execution_count": 0,
      "outputs": []
    }
  ]
}