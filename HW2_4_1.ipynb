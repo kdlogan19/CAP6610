{
  "nbformat": 4,
  "nbformat_minor": 0,
  "metadata": {
    "colab": {
      "name": "HW2_4.1.ipynb",
      "provenance": [],
      "toc_visible": true,
      "authorship_tag": "ABX9TyO74tFeZo4xALlH345umOr6",
      "include_colab_link": true
    },
    "kernelspec": {
      "name": "python3",
      "display_name": "Python 3"
    }
  },
  "cells": [
    {
      "cell_type": "markdown",
      "metadata": {
        "id": "view-in-github",
        "colab_type": "text"
      },
      "source": [
        "<a href=\"https://colab.research.google.com/github/kdlogan19/CAP6610/blob/master/HW2_4_1.ipynb\" target=\"_parent\"><img src=\"https://colab.research.google.com/assets/colab-badge.svg\" alt=\"Open In Colab\"/></a>"
      ]
    },
    {
      "cell_type": "code",
      "metadata": {
        "id": "6b8qpZeUhT77",
        "colab_type": "code",
        "colab": {}
      },
      "source": [
        ""
      ],
      "execution_count": 0,
      "outputs": []
    },
    {
      "cell_type": "markdown",
      "metadata": {
        "id": "mLekiJIQhV9-",
        "colab_type": "text"
      },
      "source": [
        "\n",
        "\n",
        "---\n",
        "\n",
        "\n",
        "# Lease Square Loss\n",
        "\n",
        "\n",
        "\n",
        "---\n",
        "\n"
      ]
    },
    {
      "cell_type": "code",
      "metadata": {
        "id": "9zy1OtdKNpEJ",
        "colab_type": "code",
        "colab": {}
      },
      "source": [
        "import pandas as pd\n",
        "\n",
        "data = pd.read_csv(\"winequality-red.csv\", sep = ';')"
      ],
      "execution_count": 0,
      "outputs": []
    },
    {
      "cell_type": "code",
      "metadata": {
        "id": "a3wS2GIqO4pg",
        "colab_type": "code",
        "colab": {}
      },
      "source": [
        "wine_train = data.iloc[:1400,:11]\n",
        "wine_test = data.iloc[1400:,:11]"
      ],
      "execution_count": 0,
      "outputs": []
    },
    {
      "cell_type": "code",
      "metadata": {
        "id": "91qA9nyVPrJl",
        "colab_type": "code",
        "colab": {}
      },
      "source": [
        "y_train = data.iloc[:1400,11]\n",
        "y_test = data.iloc[1400:,11]"
      ],
      "execution_count": 0,
      "outputs": []
    },
    {
      "cell_type": "code",
      "metadata": {
        "id": "3wpiO6KNQYpi",
        "colab_type": "code",
        "colab": {
          "base_uri": "https://localhost:8080/",
          "height": 34
        },
        "outputId": "fe0167b3-296d-464e-9d97-a0344031ebae"
      },
      "source": [
        "import numpy as np\n",
        "ones = np.ones((1400,1))\n",
        "ones\n",
        "ones.shape"
      ],
      "execution_count": 6,
      "outputs": [
        {
          "output_type": "execute_result",
          "data": {
            "text/plain": [
              "(1400, 1)"
            ]
          },
          "metadata": {
            "tags": []
          },
          "execution_count": 6
        }
      ]
    },
    {
      "cell_type": "code",
      "metadata": {
        "id": "Qm-yzuZkYbVs",
        "colab_type": "code",
        "colab": {
          "base_uri": "https://localhost:8080/",
          "height": 134
        },
        "outputId": "e13fcfb5-1166-4c3f-cc9d-85176ea8b79f"
      },
      "source": [
        "A = np.block([[ones, wine_train]])\n",
        "A"
      ],
      "execution_count": 7,
      "outputs": [
        {
          "output_type": "execute_result",
          "data": {
            "text/plain": [
              "array([[ 1.  ,  7.4 ,  0.7 , ...,  3.51,  0.56,  9.4 ],\n",
              "       [ 1.  ,  7.8 ,  0.88, ...,  3.2 ,  0.68,  9.8 ],\n",
              "       [ 1.  ,  7.8 ,  0.76, ...,  3.26,  0.65,  9.8 ],\n",
              "       ...,\n",
              "       [ 1.  ,  7.3 ,  0.59, ...,  3.28,  0.52,  9.9 ],\n",
              "       [ 1.  ,  7.  ,  0.6 , ...,  3.52,  0.62, 10.2 ],\n",
              "       [ 1.  ,  7.2 ,  0.67, ...,  3.42,  0.72, 11.1 ]])"
            ]
          },
          "metadata": {
            "tags": []
          },
          "execution_count": 7
        }
      ]
    },
    {
      "cell_type": "code",
      "metadata": {
        "id": "6D1VfwQeaa81",
        "colab_type": "code",
        "colab": {
          "base_uri": "https://localhost:8080/",
          "height": 34
        },
        "outputId": "73facd42-711c-41fa-9bcd-57aa8b636ed2"
      },
      "source": [
        "A.shape\n"
      ],
      "execution_count": 8,
      "outputs": [
        {
          "output_type": "execute_result",
          "data": {
            "text/plain": [
              "(1400, 12)"
            ]
          },
          "metadata": {
            "tags": []
          },
          "execution_count": 8
        }
      ]
    },
    {
      "cell_type": "code",
      "metadata": {
        "id": "2c4VgAYbn1lA",
        "colab_type": "code",
        "colab": {
          "base_uri": "https://localhost:8080/",
          "height": 34
        },
        "outputId": "f2c15c6f-986b-4272-9624-95c195cc8db6"
      },
      "source": [
        "type(y_train)"
      ],
      "execution_count": 9,
      "outputs": [
        {
          "output_type": "execute_result",
          "data": {
            "text/plain": [
              "pandas.core.series.Series"
            ]
          },
          "metadata": {
            "tags": []
          },
          "execution_count": 9
        }
      ]
    },
    {
      "cell_type": "code",
      "metadata": {
        "id": "o_iYdRyVjl1t",
        "colab_type": "code",
        "colab": {}
      },
      "source": [
        "y_train = y_train.to_numpy()"
      ],
      "execution_count": 0,
      "outputs": []
    },
    {
      "cell_type": "code",
      "metadata": {
        "id": "sA7bV_qLosWk",
        "colab_type": "code",
        "colab": {}
      },
      "source": [
        "y_train = y_train.reshape(1400,1)"
      ],
      "execution_count": 0,
      "outputs": []
    },
    {
      "cell_type": "code",
      "metadata": {
        "id": "AE4PgMcfqOeM",
        "colab_type": "code",
        "colab": {
          "base_uri": "https://localhost:8080/",
          "height": 34
        },
        "outputId": "5d9658bb-ef67-4941-b9da-10cd9b699f86"
      },
      "source": [
        "y_train.shape"
      ],
      "execution_count": 12,
      "outputs": [
        {
          "output_type": "execute_result",
          "data": {
            "text/plain": [
              "(1400, 1)"
            ]
          },
          "metadata": {
            "tags": []
          },
          "execution_count": 12
        }
      ]
    },
    {
      "cell_type": "code",
      "metadata": {
        "id": "bZEMM5lUbQlN",
        "colab_type": "code",
        "colab": {}
      },
      "source": [
        "res = np.matmul(np.linalg.pinv(A),y_train)"
      ],
      "execution_count": 0,
      "outputs": []
    },
    {
      "cell_type": "code",
      "metadata": {
        "id": "4WfeiI6gha2P",
        "colab_type": "code",
        "colab": {}
      },
      "source": [
        "A_test = np.block([np.ones((199,1)),wine_test])"
      ],
      "execution_count": 0,
      "outputs": []
    },
    {
      "cell_type": "code",
      "metadata": {
        "id": "LJ5qVgrlhuFi",
        "colab_type": "code",
        "colab": {
          "base_uri": "https://localhost:8080/",
          "height": 34
        },
        "outputId": "79fc3035-a0b9-4423-de1b-ea37f750c84a"
      },
      "source": [
        "A_test.shape"
      ],
      "execution_count": 16,
      "outputs": [
        {
          "output_type": "execute_result",
          "data": {
            "text/plain": [
              "(199, 12)"
            ]
          },
          "metadata": {
            "tags": []
          },
          "execution_count": 16
        }
      ]
    },
    {
      "cell_type": "code",
      "metadata": {
        "id": "AEHw-83zrkME",
        "colab_type": "code",
        "colab": {}
      },
      "source": [
        "y_test = y_test.to_numpy()"
      ],
      "execution_count": 0,
      "outputs": []
    },
    {
      "cell_type": "code",
      "metadata": {
        "id": "aU3HcxqtsFlZ",
        "colab_type": "code",
        "colab": {}
      },
      "source": [
        "y_test.reshape(199,1)\n",
        "result = np.matmul(A_test,res)"
      ],
      "execution_count": 0,
      "outputs": []
    },
    {
      "cell_type": "code",
      "metadata": {
        "id": "Doc_ryTzs7-v",
        "colab_type": "code",
        "colab": {}
      },
      "source": [
        "result = np.round(result)"
      ],
      "execution_count": 0,
      "outputs": []
    },
    {
      "cell_type": "code",
      "metadata": {
        "id": "f5MgM5res9lt",
        "colab_type": "code",
        "colab": {
          "base_uri": "https://localhost:8080/",
          "height": 34
        },
        "outputId": "715da507-6797-41d0-994b-e8c097b08dc7"
      },
      "source": [
        "from sklearn.metrics import mean_absolute_error\n",
        "mean_absolute_error(y_test,result)"
      ],
      "execution_count": 20,
      "outputs": [
        {
          "output_type": "execute_result",
          "data": {
            "text/plain": [
              "0.4371859296482412"
            ]
          },
          "metadata": {
            "tags": []
          },
          "execution_count": 20
        }
      ]
    },
    {
      "cell_type": "markdown",
      "metadata": {
        "id": "ypYMzOnZ4cib",
        "colab_type": "text"
      },
      "source": [
        "\n",
        "\n",
        "\n",
        "\n",
        "\n",
        "\n",
        "---\n",
        "\n",
        "\n",
        "# *********************HUBER LOSS FUNCTION***************************************** \n",
        "\n",
        "\n",
        "\n",
        "---\n",
        "\n",
        "\n",
        "\n"
      ]
    },
    {
      "cell_type": "code",
      "metadata": {
        "id": "aqTxysPd4bn3",
        "colab_type": "code",
        "colab": {}
      },
      "source": [
        "wine_train\n",
        "wine_train = wine_train.to_numpy()\n"
      ],
      "execution_count": 0,
      "outputs": []
    },
    {
      "cell_type": "code",
      "metadata": {
        "id": "BmNUMKSz6cou",
        "colab_type": "code",
        "colab": {}
      },
      "source": [
        "import cvxpy as cp\n",
        "w = cp.Variable((11,1)); b = cp.Variable()"
      ],
      "execution_count": 0,
      "outputs": []
    },
    {
      "cell_type": "code",
      "metadata": {
        "id": "pWbv1m2C6oC6",
        "colab_type": "code",
        "colab": {}
      },
      "source": [
        "obj_train = cp.sum(cp.huber(wine_train@w + b - y_train))"
      ],
      "execution_count": 0,
      "outputs": []
    },
    {
      "cell_type": "code",
      "metadata": {
        "id": "TGZoGQq-AMlz",
        "colab_type": "code",
        "colab": {
          "base_uri": "https://localhost:8080/",
          "height": 34
        },
        "outputId": "63bedc3d-b704-48ab-dcc8-88e228b49505"
      },
      "source": [
        "cp.Problem(cp.Minimize(obj_train), []).solve()"
      ],
      "execution_count": 28,
      "outputs": [
        {
          "output_type": "execute_result",
          "data": {
            "text/plain": [
              "535.4177751956599"
            ]
          },
          "metadata": {
            "tags": []
          },
          "execution_count": 28
        }
      ]
    },
    {
      "cell_type": "code",
      "metadata": {
        "id": "sGBS_DNyEj7p",
        "colab_type": "code",
        "colab": {
          "base_uri": "https://localhost:8080/",
          "height": 202
        },
        "outputId": "6179d0f0-6f4f-4f13-f0db-c1ee028a1f9f"
      },
      "source": [
        "w.value"
      ],
      "execution_count": 30,
      "outputs": [
        {
          "output_type": "execute_result",
          "data": {
            "text/plain": [
              "array([[ 5.01133982e-02],\n",
              "       [-1.03205164e+00],\n",
              "       [-1.83368522e-01],\n",
              "       [ 2.37555652e-02],\n",
              "       [-1.53504304e+00],\n",
              "       [ 3.13824283e-03],\n",
              "       [-3.42146282e-03],\n",
              "       [-3.46798683e+01],\n",
              "       [-1.00830934e-01],\n",
              "       [ 8.91948016e-01],\n",
              "       [ 2.63729352e-01]])"
            ]
          },
          "metadata": {
            "tags": []
          },
          "execution_count": 30
        }
      ]
    },
    {
      "cell_type": "code",
      "metadata": {
        "id": "ZkNjsiyqE577",
        "colab_type": "code",
        "colab": {
          "base_uri": "https://localhost:8080/",
          "height": 34
        },
        "outputId": "c35e52d2-d630-4d0d-8bd8-96a06e3597a7"
      },
      "source": [
        "b.value"
      ],
      "execution_count": 31,
      "outputs": [
        {
          "output_type": "execute_result",
          "data": {
            "text/plain": [
              "array(37.58293877)"
            ]
          },
          "metadata": {
            "tags": []
          },
          "execution_count": 31
        }
      ]
    },
    {
      "cell_type": "code",
      "metadata": {
        "id": "-Em8ZU0kF4nK",
        "colab_type": "code",
        "colab": {}
      },
      "source": [
        "wine_test = wine_test.to_numpy()\n",
        "y_test = y_test.reshape(199,1)"
      ],
      "execution_count": 0,
      "outputs": []
    },
    {
      "cell_type": "code",
      "metadata": {
        "id": "i-xvvGK6E_hP",
        "colab_type": "code",
        "colab": {}
      },
      "source": [
        "obj_test = wine_test@w + b"
      ],
      "execution_count": 0,
      "outputs": []
    },
    {
      "cell_type": "code",
      "metadata": {
        "id": "bOf3CbUWGUHV",
        "colab_type": "code",
        "colab": {
          "base_uri": "https://localhost:8080/",
          "height": 34
        },
        "outputId": "47e19d0e-b200-437a-892f-8ae31b970d6b"
      },
      "source": [
        "obj_test.shape"
      ],
      "execution_count": 34,
      "outputs": [
        {
          "output_type": "execute_result",
          "data": {
            "text/plain": [
              "(199, 1)"
            ]
          },
          "metadata": {
            "tags": []
          },
          "execution_count": 34
        }
      ]
    },
    {
      "cell_type": "code",
      "metadata": {
        "id": "vrzIvVkkGpkE",
        "colab_type": "code",
        "colab": {
          "base_uri": "https://localhost:8080/",
          "height": 34
        },
        "outputId": "57c53157-0fd4-463e-cd48-5629b1cde3e3"
      },
      "source": [
        "from sklearn.metrics import mean_absolute_error\n",
        "mean_absolute_error(y_test,obj_test.value)"
      ],
      "execution_count": 35,
      "outputs": [
        {
          "output_type": "execute_result",
          "data": {
            "text/plain": [
              "0.5327156477588904"
            ]
          },
          "metadata": {
            "tags": []
          },
          "execution_count": 35
        }
      ]
    },
    {
      "cell_type": "code",
      "metadata": {
        "id": "h6_cQzJvG0wk",
        "colab_type": "code",
        "colab": {}
      },
      "source": [
        ""
      ],
      "execution_count": 0,
      "outputs": []
    },
    {
      "cell_type": "markdown",
      "metadata": {
        "id": "qDlSSeULSOGv",
        "colab_type": "text"
      },
      "source": [
        "\n",
        "\n",
        "---\n",
        "\n",
        "\n",
        "\n",
        "---\n",
        "\n",
        "\n",
        "# **       *********** HINGE LOSS******************    **\n",
        "\n",
        "---\n",
        "\n"
      ]
    },
    {
      "cell_type": "code",
      "metadata": {
        "id": "TdCQpxvJS9PF",
        "colab_type": "code",
        "colab": {}
      },
      "source": [
        "wine_train = wine_train.to_numpy()\n",
        "y_train = y_train.to_numpy()\n",
        "y_train = y_train.reshape(1400,1)\n",
        "wine_test = wine_test.to_numpy()\n",
        "y_test = y_test.to_numpy()\n",
        "y_test = y_test.reshape(199,1)\n"
      ],
      "execution_count": 0,
      "outputs": []
    },
    {
      "cell_type": "code",
      "metadata": {
        "id": "AWpS-hbcZV01",
        "colab_type": "code",
        "colab": {}
      },
      "source": [
        "w2 = cp.Variable((11,1))\n",
        "b2 = cp.Variable()"
      ],
      "execution_count": 0,
      "outputs": []
    },
    {
      "cell_type": "code",
      "metadata": {
        "id": "6C_RDVC0TrTx",
        "colab_type": "code",
        "colab": {}
      },
      "source": [
        "loss_train = cp.sum(cp.max(cp.abs(wine_train@w2 + b2 - y_train) - 0.5))"
      ],
      "execution_count": 0,
      "outputs": []
    },
    {
      "cell_type": "code",
      "metadata": {
        "id": "632NWsI7VA_i",
        "colab_type": "code",
        "colab": {
          "base_uri": "https://localhost:8080/",
          "height": 34
        },
        "outputId": "12b4604b-2be6-465c-9753-949026dc2efa"
      },
      "source": [
        "loss_train"
      ],
      "execution_count": 40,
      "outputs": [
        {
          "output_type": "execute_result",
          "data": {
            "text/plain": [
              "Expression(CONVEX, UNKNOWN, ())"
            ]
          },
          "metadata": {
            "tags": []
          },
          "execution_count": 40
        }
      ]
    },
    {
      "cell_type": "code",
      "metadata": {
        "id": "Kbx8TJSoVCGM",
        "colab_type": "code",
        "colab": {
          "base_uri": "https://localhost:8080/",
          "height": 34
        },
        "outputId": "b88f834d-3209-469a-a159-d87462e11c36"
      },
      "source": [
        "cp.Problem(cp.Minimize(loss_train),[]).solve(solver = cp.ECOS)"
      ],
      "execution_count": 41,
      "outputs": [
        {
          "output_type": "execute_result",
          "data": {
            "text/plain": [
              "1.4427196879472994"
            ]
          },
          "metadata": {
            "tags": []
          },
          "execution_count": 41
        }
      ]
    },
    {
      "cell_type": "code",
      "metadata": {
        "id": "nKxNKsuqVPGy",
        "colab_type": "code",
        "colab": {
          "base_uri": "https://localhost:8080/",
          "height": 202
        },
        "outputId": "01b77363-f1c4-4fb9-c374-a6d20100c8c4"
      },
      "source": [
        "w2.value"
      ],
      "execution_count": 42,
      "outputs": [
        {
          "output_type": "execute_result",
          "data": {
            "text/plain": [
              "array([[-1.02443588e-01],\n",
              "       [-1.14031934e+00],\n",
              "       [-8.03873920e-01],\n",
              "       [-1.02267158e-01],\n",
              "       [-2.19223559e+00],\n",
              "       [-6.56619772e-03],\n",
              "       [ 2.54697174e-04],\n",
              "       [ 3.58110026e+01],\n",
              "       [-2.66588926e+00],\n",
              "       [ 4.24335853e-01],\n",
              "       [ 3.75420175e-01]])"
            ]
          },
          "metadata": {
            "tags": []
          },
          "execution_count": 42
        }
      ]
    },
    {
      "cell_type": "code",
      "metadata": {
        "id": "9cWYG3qMVVAv",
        "colab_type": "code",
        "colab": {
          "base_uri": "https://localhost:8080/",
          "height": 34
        },
        "outputId": "fb24ae2a-a7be-491b-d7d3-c55086171b22"
      },
      "source": [
        "b2.value"
      ],
      "execution_count": 43,
      "outputs": [
        {
          "output_type": "execute_result",
          "data": {
            "text/plain": [
              "array(-23.29192227)"
            ]
          },
          "metadata": {
            "tags": []
          },
          "execution_count": 43
        }
      ]
    },
    {
      "cell_type": "code",
      "metadata": {
        "id": "Mv576fQWVWPL",
        "colab_type": "code",
        "colab": {}
      },
      "source": [
        "hinge_pred = wine_test@w2 + b2"
      ],
      "execution_count": 0,
      "outputs": []
    },
    {
      "cell_type": "code",
      "metadata": {
        "id": "pKs4WCRTV75i",
        "colab_type": "code",
        "colab": {
          "base_uri": "https://localhost:8080/",
          "height": 50
        },
        "outputId": "0440ff50-57a6-4020-f459-03954115bf70"
      },
      "source": [
        "print(type(hinge_pred.value))\n",
        "type(y_test)"
      ],
      "execution_count": 45,
      "outputs": [
        {
          "output_type": "stream",
          "text": [
            "<class 'numpy.ndarray'>\n"
          ],
          "name": "stdout"
        },
        {
          "output_type": "execute_result",
          "data": {
            "text/plain": [
              "numpy.ndarray"
            ]
          },
          "metadata": {
            "tags": []
          },
          "execution_count": 45
        }
      ]
    },
    {
      "cell_type": "code",
      "metadata": {
        "id": "JtzV95X-V9R1",
        "colab_type": "code",
        "colab": {
          "base_uri": "https://localhost:8080/",
          "height": 34
        },
        "outputId": "6daac035-5b05-4f7c-926a-46687d50fb91"
      },
      "source": [
        "mean_absolute_error(y_test,hinge_pred.value)"
      ],
      "execution_count": 46,
      "outputs": [
        {
          "output_type": "execute_result",
          "data": {
            "text/plain": [
              "0.5948590304113915"
            ]
          },
          "metadata": {
            "tags": []
          },
          "execution_count": 46
        }
      ]
    },
    {
      "cell_type": "code",
      "metadata": {
        "id": "sDN67KaeMnnx",
        "colab_type": "code",
        "colab": {}
      },
      "source": [
        ""
      ],
      "execution_count": 0,
      "outputs": []
    }
  ]
}